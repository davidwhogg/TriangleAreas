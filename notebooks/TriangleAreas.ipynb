{
 "cells": [
  {
   "cell_type": "code",
   "execution_count": null,
   "id": "de0df746",
   "metadata": {},
   "outputs": [],
   "source": [
    "import numpy as np\n",
    "import pylab as plt\n",
    "import itertools as it\n",
    "import re"
   ]
  },
  {
   "cell_type": "code",
   "execution_count": null,
   "id": "6e69d919",
   "metadata": {},
   "outputs": [],
   "source": [
    "# Set random-number seed.\n",
    "\n",
    "rng = np.random.default_rng(17)"
   ]
  },
  {
   "cell_type": "code",
   "execution_count": null,
   "id": "421749e0",
   "metadata": {},
   "outputs": [],
   "source": [
    "# Make 3-point point clouds.\n",
    "\n",
    "N = 100\n",
    "d = 2\n",
    "xs = rng.normal(size=(N, 3, d))\n",
    "xs += 7. * rng.normal(size=(N, d))[:, None, :]"
   ]
  },
  {
   "cell_type": "code",
   "execution_count": null,
   "id": "795ef44b",
   "metadata": {},
   "outputs": [],
   "source": [
    "# Compute areas, or really squared-areas of the triangles.\n",
    "\n",
    "def area(xs):\n",
    "    \"\"\"\n",
    "    ## comments:\n",
    "    - Computes the area with the absolute value of a cross product.\n",
    "    \n",
    "    ## bugs:\n",
    "    - Untested; unchecked!\n",
    "    \"\"\"\n",
    "    return 0.5 * np.abs((xs[:, 2, 0] - xs[:, 0, 0]) * # x3 - x1\n",
    "                        (xs[:, 1, 1] - xs[:, 0, 1]) - # y2 - y1\n",
    "                        (xs[:, 2, 1] - xs[:, 0, 1]) * # y3 - y1\n",
    "                        (xs[:, 1, 0] - xs[:, 0, 0]))  # x2 - x1\n",
    "\n",
    "ys = area(xs) ** 2\n",
    "print(ys.shape)"
   ]
  },
  {
   "cell_type": "code",
   "execution_count": null,
   "id": "de79243e",
   "metadata": {},
   "outputs": [],
   "source": [
    "# Plot one data point.\n",
    "\n",
    "j = 51\n",
    "plt.scatter(xs[j, :, 0], xs[j, :, 1])\n",
    "plt.title(\"triangle {}: area {}\".format(j, np.sqrt(ys[j])))\n",
    "plt.axis(\"equal\")"
   ]
  },
  {
   "cell_type": "code",
   "execution_count": null,
   "id": "23aaa039",
   "metadata": {},
   "outputs": [],
   "source": [
    "# Build list of all possible polynomial expressions that DeepSets could make, plus names.\n",
    "\n",
    "def write_exponent(variable, power):\n",
    "    if power == 0:\n",
    "        return None\n",
    "    if power == 1:\n",
    "        return variable\n",
    "    return variable + '^{}'.format(power)\n",
    "\n",
    "def polynomial_terms(xs, max_degree=4):\n",
    "    \"\"\"\n",
    "    ## bugs:\n",
    "    - `np.concatenate` is slow?\n",
    "    \"\"\"\n",
    "    N, three, d = xs.shape\n",
    "    assert three == 3\n",
    "    assert d == 2\n",
    "    X = [[np.ones(N)]]\n",
    "    names = [\"1\"]\n",
    "    for degree in range(1, max_degree+1):\n",
    "        thisX = []\n",
    "        name = []\n",
    "        for yexp in range(degree+1):\n",
    "            xexp = degree - yexp\n",
    "            thisX.append(np.sum(xs[:, :, 0] ** xexp *\n",
    "                                xs[:, :, 1] ** yexp, axis=1))\n",
    "            tmp_names = (write_exponent(v, p) for v, p in zip(['x_i', 'y_i'], [xexp, yexp]))\n",
    "            tmp_names = list(filter(lambda item: item is not None, tmp_names))\n",
    "            name.append('(\\sum_{{i=1}}^3 {})'.format('\\,'.join(tmp_names)))\n",
    "        X.append(thisX)\n",
    "        names.append(name)\n",
    "    return X, names\n",
    "\n",
    "terms, term_names = polynomial_terms(xs)\n",
    "print(len(terms))\n",
    "print(list(len(term) for term in terms))\n",
    "print(list(name for name in term_names))"
   ]
  },
  {
   "cell_type": "code",
   "execution_count": null,
   "id": "973d5a40",
   "metadata": {},
   "outputs": [],
   "source": [
    "# Find all ordered lists of positive integers that add up to 4.\n",
    "\n",
    "def integer_combinations(n, s=None, slist=None):\n",
    "    if slist is None:\n",
    "        slist = []\n",
    "    if s is None:\n",
    "        ss = 0\n",
    "        ms = 1\n",
    "        s = []\n",
    "    else:\n",
    "        ss = np.sum(s)\n",
    "        ms = np.max(s)\n",
    "    if ss >= n:\n",
    "        slist += [s]\n",
    "    for j in range(ms, n - ss + 1):\n",
    "        slist = integer_combinations(n, s + [j], slist)\n",
    "    return slist\n",
    "\n",
    "combinations = integer_combinations(4, None)\n",
    "print(combinations)"
   ]
  },
  {
   "cell_type": "code",
   "execution_count": null,
   "id": "94d5c3ba",
   "metadata": {},
   "outputs": [],
   "source": [
    "# Reformat the order lists to something useful for the next stage.\n",
    "\n",
    "def count_integers(s, n):\n",
    "    counts = np.zeros(n+1).astype(int)\n",
    "    for i in range(n+1):\n",
    "        counts[i] = np.sum(sum((j == i) for j in s))\n",
    "    return counts\n",
    "\n",
    "counts = list(count_integers(combo, 4) for combo in combinations)\n",
    "print(counts)"
   ]
  },
  {
   "cell_type": "code",
   "execution_count": null,
   "id": "fd26a05e",
   "metadata": {},
   "outputs": [],
   "source": [
    "# Find all possible polynomial terms that are 4th order and consistent with DeepSets.\n",
    "\n",
    "def design_matrix_columns_and_names(terms, term_names, c, n):\n",
    "    \"\"\"\n",
    "    ## bugs:\n",
    "    - badly repeated code because I suck\n",
    "    \"\"\"\n",
    "    names = []\n",
    "    columns = []\n",
    "    foos = it.product(*(it.combinations_with_replacement(term_names[i], c[i]) for i in range(1, n+1)))\n",
    "    bars = it.product(*(it.combinations_with_replacement(terms[i], c[i]) for i in range(1, n+1)))\n",
    "    for foo in foos:\n",
    "        name = ''\n",
    "        for f in foo:\n",
    "            if f != ():\n",
    "                f = list(f)\n",
    "                # Now search for and simplify some squares\n",
    "                for j in range(len(f) - 1):\n",
    "                    if f[j] == f[j + 1]:\n",
    "                        f[j] += '^2'\n",
    "                        f[j + 1] = None\n",
    "                f = list(filter(lambda item: item is not None, f))\n",
    "                name += '\\,'+'\\,'.join(f)\n",
    "        names += [name, ]\n",
    "    for bar in bars:\n",
    "        col = 1.\n",
    "        for f in bar:\n",
    "            if f != []:\n",
    "                col *= np.product(np.array(f), axis=0)\n",
    "        columns += [col, ]\n",
    "    return columns, names\n",
    "\n",
    "X = []\n",
    "column_names = []\n",
    "for c in counts:\n",
    "    cs, ns = design_matrix_columns_and_names(terms, term_names, c, 4)\n",
    "    X += cs\n",
    "    column_names += ns\n",
    "X = np.array(X).T\n",
    "print(len(column_names), column_names)\n",
    "print(X.shape)"
   ]
  },
  {
   "cell_type": "code",
   "execution_count": null,
   "id": "50d38f3e",
   "metadata": {},
   "outputs": [],
   "source": [
    "# Simplify column names that are repetitive.\n",
    "\n",
    "for j in range(len(column_names)):\n",
    "    foo = column_names[j].split(')\\\\,(')\n",
    "    for k in range(len(foo) - 1):\n",
    "        if foo[k] + ')' == '(' + foo[k + 1]:\n",
    "            foo[k] += \")^2\"\n",
    "            foo[k+1] = None\n",
    "    foo = list(filter(lambda item: item is not None, foo))\n",
    "    column_names[j] = ')\\,('.join(foo)\n",
    "\n",
    "print(column_names)"
   ]
  },
  {
   "cell_type": "code",
   "execution_count": null,
   "id": "ab8eb1c7",
   "metadata": {},
   "outputs": [],
   "source": [
    "# Perform the regression and show the learned weights.\n",
    "\n",
    "beta_hat, _, _, _ = np.linalg.lstsq(X, ys, rcond=None)\n",
    "print(beta_hat)"
   ]
  },
  {
   "cell_type": "code",
   "execution_count": null,
   "id": "6cc0084f",
   "metadata": {},
   "outputs": [],
   "source": [
    "# Test that the solution is exact.\n",
    "\n",
    "print(np.sqrt(np.mean((ys - X @ beta_hat) ** 2)))\n",
    "print(np.max(np.abs(ys - X @ beta_hat)))\n",
    "print(np.allclose(ys, X @ beta_hat))"
   ]
  },
  {
   "cell_type": "code",
   "execution_count": null,
   "id": "c9649f35",
   "metadata": {},
   "outputs": [],
   "source": [
    "# Find the non-zero terms, by a hack.\n",
    "\n",
    "nonzero = np.arange(len(beta_hat)).astype(int)[np.abs(beta_hat) > 1.e-4] # MAGIC\n",
    "print(len(nonzero))\n",
    "print(beta_hat[nonzero])"
   ]
  },
  {
   "cell_type": "code",
   "execution_count": null,
   "id": "c0f23a2f",
   "metadata": {},
   "outputs": [],
   "source": [
    "# Now do rational number stuff.\n",
    "\n",
    "magic = 368\n",
    "print(beta_hat[nonzero] * magic) # Check out this MAGIC!"
   ]
  },
  {
   "cell_type": "code",
   "execution_count": null,
   "id": "695dbe69",
   "metadata": {},
   "outputs": [],
   "source": [
    "# Force the answer to be explicitly rational with the MAGIC and re-check the answer.\n",
    "\n",
    "beta_hat = np.round(beta_hat * magic) / magic\n",
    "print(beta_hat)\n",
    "print(np.sqrt(np.mean((ys - X @ beta_hat) ** 2)))\n",
    "print(np.max(np.abs(ys - X @ beta_hat)))\n",
    "print(np.allclose(ys, X @ beta_hat))"
   ]
  },
  {
   "cell_type": "code",
   "execution_count": null,
   "id": "33f76117",
   "metadata": {},
   "outputs": [],
   "source": [
    "# Output the answer in proper LaTeX.\n",
    "\n",
    "sgn = [\"{:+f}\".format(b)[0] for b in beta_hat]\n",
    "print(\"\\\\begin{align}\")\n",
    "print(\"A^2 = &\")\n",
    "for i,j in enumerate(nonzero[::-1]):\n",
    "    suffix = ''\n",
    "    if i % 2 == 1:\n",
    "        suffix = '\\\\nonumber \\\\\\\\ &'\n",
    "    if i == 8:\n",
    "        suffix = ''\n",
    "    print(\"{}\\\\frac{{{:3.0f}}}{{{}}}{} {}\".format(sgn[j], np.abs(beta_hat[j]) * magic,\n",
    "                                                  magic, column_names[j], suffix))\n",
    "print(\"\\\\end{align}\")"
   ]
  },
  {
   "cell_type": "code",
   "execution_count": null,
   "id": "156c4a65",
   "metadata": {},
   "outputs": [],
   "source": []
  }
 ],
 "metadata": {
  "kernelspec": {
   "display_name": "Python 3 (ipykernel)",
   "language": "python",
   "name": "python3"
  },
  "language_info": {
   "codemirror_mode": {
    "name": "ipython",
    "version": 3
   },
   "file_extension": ".py",
   "mimetype": "text/x-python",
   "name": "python",
   "nbconvert_exporter": "python",
   "pygments_lexer": "ipython3",
   "version": "3.9.12"
  }
 },
 "nbformat": 4,
 "nbformat_minor": 5
}
